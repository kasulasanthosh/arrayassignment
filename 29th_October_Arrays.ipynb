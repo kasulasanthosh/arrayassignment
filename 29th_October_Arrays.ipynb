{
 "cells": [
  {
   "cell_type": "code",
   "execution_count": 23,
   "id": "09962fce-ecab-4283-beea-5b8a61363830",
   "metadata": {},
   "outputs": [
    {
     "name": "stdout",
     "output_type": "stream",
     "text": [
      "True\n"
     ]
    }
   ],
   "source": [
    "'''1. Given an array, check if it contains any duplicates or not.\n",
    "arr = [1, 2, 4, 2, 5, 9]\n",
    "Output = True'''\n",
    "\n",
    "#method definion of checking duplicates of an array\n",
    "# compare the length af array and lenght of set of an annary, if it is not equal gives True  \n",
    "#Time complexity is O(1)\n",
    "#space complexity is O(1)\n",
    "def check_Duplicates(arr):\n",
    "    return len(arr)!=len(set(arr))\n",
    "\n",
    "#drive code\n",
    "arr = [1, 2, 4, 2, 5, 9]\n",
    "print(check_Duplicates(arr))"
   ]
  },
  {
   "cell_type": "code",
   "execution_count": 35,
   "id": "cb13c533-832c-4021-92e7-9e5280b22ad3",
   "metadata": {},
   "outputs": [
    {
     "name": "stdout",
     "output_type": "stream",
     "text": [
      "5 6 7 1 2 3 4 "
     ]
    }
   ],
   "source": [
    "'''2. Given an array and an integer k, rotate the array to the right by k steps.\n",
    "arr = [1, 2, 3, 4, 5, 6, 7] k = 3\n",
    "Output = [5, 6, 7, 1, 2, 3, 4]'''\n",
    "\n",
    "#method definion of rightrotate  to the array\n",
    "#time complexity O(n)\n",
    "#space complexity O(1)\n",
    "def rotate_array(arr,n,k):\n",
    "    k=k%n\n",
    "    for i in range(0,n):\n",
    "        if i<k:\n",
    "            # printing rightmost kth elements\n",
    "            print(arr[n+i-k],end=\" \")\n",
    "        else:\n",
    "            # prints array after 'k' elements\n",
    "            print(arr[i-k],end=\" \") \n",
    "\n",
    "#driver code\n",
    "arr = [1, 2, 3, 4, 5, 6, 7]\n",
    "k=3\n",
    "n=len(arr)\n",
    "rotate_array(arr,n,k)"
   ]
  },
  {
   "cell_type": "code",
   "execution_count": 42,
   "id": "043d2a1a-7d21-43b1-89f6-1c62ced58ae5",
   "metadata": {},
   "outputs": [
    {
     "name": "stdout",
     "output_type": "stream",
     "text": [
      "The reversed array is: [12, 9, 7, 5, 4, 2]\n"
     ]
    }
   ],
   "source": [
    "'''3. Reverse the given array in-place, means without using any extra data structure.\n",
    "arr = [2, 4, 5, 7, 9, 12]\n",
    "Output = [12, 9, 7, 5, 4, 2]'''\n",
    "\n",
    "# time complexity O(n)\n",
    "# space complexity O(1)\n",
    "\n",
    "arr=[2, 4, 5, 7, 9, 12]\n",
    "# using reverse method \n",
    "arr.reverse()\n",
    "\n",
    "# the reversed array\n",
    "print(\"The reversed array is:\",arr)\n"
   ]
  },
  {
   "cell_type": "code",
   "execution_count": 3,
   "id": "6fe879e2-42ac-446d-b33a-324897e26226",
   "metadata": {},
   "outputs": [
    {
     "name": "stdout",
     "output_type": "stream",
     "text": [
      "The maximum value of array is: 20\n"
     ]
    }
   ],
   "source": [
    "'''4. Given an array of integers, find the maximum element in an array\n",
    "arr = [10, 5, 20, 8, 15]\n",
    "Output = 20'''\n",
    "# time complexity O(n)\n",
    "# space complexity O(n)\n",
    "def max_array(arr):\n",
    "    maximum=arr[0]\n",
    "    for i in range(1,len(arr)):\n",
    "        if arr[i]>maximum:\n",
    "            maximum=arr[i]\n",
    "    return maximum\n",
    "arr = [10, 5, 20, 8, 15]\n",
    "#using max finding the maximum element in a array\n",
    "result=max_array(arr)\n",
    "print(\"The maximum value of array is:\",result)"
   ]
  },
  {
   "cell_type": "code",
   "execution_count": 10,
   "id": "739e5a89-3233-46a8-b2be-556892b885d0",
   "metadata": {},
   "outputs": [
    {
     "name": "stdout",
     "output_type": "stream",
     "text": [
      "1 2 3 4 5 "
     ]
    }
   ],
   "source": [
    "'''5. Given a sorted array, remove the duplicate element without using any extra data structure.\n",
    "arr = [1, 1, 2, 2, 2, 3, 3, 4, 4, 4, 5, 5]\n",
    "Output = [1, 2, 3, 4, 5]'''\n",
    "\n",
    "# time complexity O(n)\n",
    "# space complexity O(1)\n",
    "\n",
    "#method def of remove duplicates\n",
    "def RemoveDupliates(arr,n):\n",
    "      j=0\n",
    "    for i in range(n-1):\n",
    "        if arr[i]!=arr[i+1]:\n",
    "            arr[j]=arr[i]\n",
    "            j+=1\n",
    "    arr[j]=arr[n-1]\n",
    "    return j+1     \n",
    "#driver code\n",
    "arr = [1, 1, 2, 2, 2, 3, 3, 4, 4, 4, 5, 5]\n",
    "n=len(arr)\n",
    "result=RemoveDupliates(arr,n)\n",
    "for i in range(result):\n",
    "    print(arr[i],end=\" \")"
   ]
  }
 ],
 "metadata": {
  "kernelspec": {
   "display_name": "Python 3 (ipykernel)",
   "language": "python",
   "name": "python3"
  },
  "language_info": {
   "codemirror_mode": {
    "name": "ipython",
    "version": 3
   },
   "file_extension": ".py",
   "mimetype": "text/x-python",
   "name": "python",
   "nbconvert_exporter": "python",
   "pygments_lexer": "ipython3",
   "version": "3.10.8"
  }
 },
 "nbformat": 4,
 "nbformat_minor": 5
}
